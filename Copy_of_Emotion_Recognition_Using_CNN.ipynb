{
  "metadata": {
    "kernelspec": {
      "language": "python",
      "display_name": "Python 3",
      "name": "python3"
    },
    "language_info": {
      "name": "python",
      "version": "3.10.12",
      "mimetype": "text/x-python",
      "codemirror_mode": {
        "name": "ipython",
        "version": 3
      },
      "pygments_lexer": "ipython3",
      "nbconvert_exporter": "python",
      "file_extension": ".py"
    },
    "kaggle": {
      "accelerator": "none",
      "dataSources": [
        {
          "sourceId": 1351797,
          "sourceType": "datasetVersion",
          "datasetId": 786787
        }
      ],
      "dockerImageVersionId": 30822,
      "isInternetEnabled": true,
      "language": "python",
      "sourceType": "notebook",
      "isGpuEnabled": false
    },
    "colab": {
      "provenance": [],
      "include_colab_link": true
    }
  },
  "nbformat_minor": 0,
  "nbformat": 4,
  "cells": [
    {
      "cell_type": "markdown",
      "metadata": {
        "id": "view-in-github",
        "colab_type": "text"
      },
      "source": [
        "<a href=\"https://colab.research.google.com/github/colesevier/Emotion-Detector-with-CNN/blob/main/Copy_of_Emotion_Recognition_Using_CNN.ipynb\" target=\"_parent\"><img src=\"https://colab.research.google.com/assets/colab-badge.svg\" alt=\"Open In Colab\"/></a>"
      ]
    },
    {
      "source": [
        "# IMPORTANT: RUN THIS CELL IN ORDER TO IMPORT YOUR KAGGLE DATA SOURCES,\n",
        "# THEN FEEL FREE TO DELETE THIS CELL.\n",
        "# NOTE: THIS NOTEBOOK ENVIRONMENT DIFFERS FROM KAGGLE'S PYTHON\n",
        "# ENVIRONMENT SO THERE MAY BE MISSING LIBRARIES USED BY YOUR\n",
        "# NOTEBOOK.\n",
        "import kagglehub\n",
        "msambare_fer2013_path = kagglehub.dataset_download('msambare/fer2013')\n",
        "\n",
        "print('Data source import complete.')\n"
      ],
      "metadata": {
        "id": "6l1RBIDyvPO9"
      },
      "cell_type": "code",
      "outputs": [],
      "execution_count": null
    },
    {
      "cell_type": "code",
      "source": [
        "train=r'/kaggle/input/fer2013/train'\n",
        "test=r'/kaggle/input/fer2013/test'"
      ],
      "metadata": {
        "trusted": true,
        "execution": {
          "iopub.status.busy": "2025-01-09T21:35:03.586506Z",
          "iopub.execute_input": "2025-01-09T21:35:03.586996Z",
          "iopub.status.idle": "2025-01-09T21:35:03.592095Z",
          "shell.execute_reply.started": "2025-01-09T21:35:03.586952Z",
          "shell.execute_reply": "2025-01-09T21:35:03.590883Z"
        },
        "id": "f2vgcPGpvPPA"
      },
      "outputs": [],
      "execution_count": null
    },
    {
      "cell_type": "code",
      "source": [
        "# This Python 3 environment comes with many helpful analytics libraries installed\n",
        "# It is defined by the kaggle/python Docker image: https://github.com/kaggle/docker-python\n",
        "# For example, here's several helpful packages to load\n",
        "import os\n",
        "import pandas as pd\n",
        "import numpy as np\n",
        "from tensorflow.keras.preprocessing.image import ImageDataGenerator\n",
        "\n",
        "# Input data files are available in the read-only \"../input/\" directory\n",
        "# For example, running this (by clicking run or pressing Shift+Enter) will list all files under the input directory\n",
        "\n",
        "\n",
        "\n",
        "# You can write up to 20GB to the current directory (/kaggle/working/) that gets preserved as output when you create a version using \"Save & Run All\"\n",
        "# You can also write temporary files to /kaggle/temp/, but they won't be saved outside of the current session"
      ],
      "metadata": {
        "_uuid": "8f2839f25d086af736a60e9eeb907d3b93b6e0e5",
        "_cell_guid": "b1076dfc-b9ad-4769-8c92-a6c4dae69d19",
        "trusted": true,
        "execution": {
          "iopub.status.busy": "2025-01-09T21:35:03.593887Z",
          "iopub.execute_input": "2025-01-09T21:35:03.594587Z",
          "iopub.status.idle": "2025-01-09T21:35:16.071976Z",
          "shell.execute_reply.started": "2025-01-09T21:35:03.594541Z",
          "shell.execute_reply": "2025-01-09T21:35:16.070948Z"
        },
        "id": "Su1U3zDSvPPA"
      },
      "outputs": [],
      "execution_count": null
    },
    {
      "cell_type": "code",
      "source": [
        "image_size = (48, 48)\n",
        "bth_size = 64\n",
        "\n",
        "traindatagen = ImageDataGenerator(\n",
        "    rescale = 1.0/255,\n",
        "    rotation_range = 15,\n",
        "    width_shift_range = 0.15,\n",
        "    height_shift_range = 0.15,\n",
        "    shear_range = 0.15,\n",
        "    zoom_range = 0.15,\n",
        "    horizontal_flip = True,\n",
        "    validation_split = 0.1\n",
        ")\n",
        "\n",
        "testdatagen = ImageDataGenerator(rescale=1.0/255)"
      ],
      "metadata": {
        "trusted": true,
        "execution": {
          "iopub.status.busy": "2025-01-09T21:35:16.07365Z",
          "iopub.execute_input": "2025-01-09T21:35:16.074256Z",
          "iopub.status.idle": "2025-01-09T21:35:16.07938Z",
          "shell.execute_reply.started": "2025-01-09T21:35:16.074226Z",
          "shell.execute_reply": "2025-01-09T21:35:16.078478Z"
        },
        "id": "XoJEutqIvPPA"
      },
      "outputs": [],
      "execution_count": null
    },
    {
      "cell_type": "code",
      "source": [
        "traingen = traindatagen.flow_from_directory(\n",
        "    train,\n",
        "    target_size = image_size,\n",
        "    batch_size = bth_size,\n",
        "    color_mode = 'grayscale',\n",
        "    class_mode = 'categorical',\n",
        "    shuffle = True,\n",
        "    subset = 'training'\n",
        ")\n",
        "\n",
        "testgen = testdatagen.flow_from_directory(\n",
        "    test,\n",
        "    target_size = image_size,\n",
        "    batch_size = bth_size,\n",
        "    color_mode = 'grayscale',\n",
        "    class_mode = 'categorical',\n",
        "    shuffle = False\n",
        ")\n",
        "\n",
        "valgen = traindatagen.flow_from_directory(\n",
        "    train,\n",
        "    target_size = image_size,\n",
        "    batch_size = bth_size,\n",
        "    color_mode = 'grayscale',\n",
        "    class_mode = 'categorical',\n",
        "    shuffle = True,\n",
        "    subset = 'validation'\n",
        ")"
      ],
      "metadata": {
        "trusted": true,
        "execution": {
          "iopub.status.busy": "2025-01-09T21:35:16.081174Z",
          "iopub.execute_input": "2025-01-09T21:35:16.081546Z",
          "iopub.status.idle": "2025-01-09T21:36:07.327256Z",
          "shell.execute_reply.started": "2025-01-09T21:35:16.081519Z",
          "shell.execute_reply": "2025-01-09T21:36:07.326145Z"
        },
        "id": "98ob3IKrvPPB"
      },
      "outputs": [],
      "execution_count": null
    },
    {
      "cell_type": "code",
      "source": [
        "import matplotlib.pyplot as plt\n",
        "import seaborn as sns\n",
        "from PIL import Image"
      ],
      "metadata": {
        "trusted": true,
        "execution": {
          "iopub.status.busy": "2025-01-09T21:36:07.32829Z",
          "iopub.execute_input": "2025-01-09T21:36:07.328595Z",
          "iopub.status.idle": "2025-01-09T21:36:08.060839Z",
          "shell.execute_reply.started": "2025-01-09T21:36:07.328569Z",
          "shell.execute_reply": "2025-01-09T21:36:08.059833Z"
        },
        "id": "xTtOJ9SWvPPB"
      },
      "outputs": [],
      "execution_count": null
    },
    {
      "cell_type": "code",
      "source": [
        "def plot_images_from_generator(generator, title, num_images = 10, images_per_row = 5):\n",
        "    images, labels = next(generator)\n",
        "    images = images[:num_images]\n",
        "    labels = labels[:num_images]\n",
        "    num_rows = (num_images + images_per_row - 1) // images_per_row\n",
        "    fig, axes = plt.subplots(num_rows, images_per_row, figsize = (15, 3 * num_rows))\n",
        "    fig.suptitle(title, fontsize = 16)\n",
        "    axes = axes.flatten()\n",
        "    for i in range(num_images):\n",
        "        img = images[i]\n",
        "        label = labels[i]\n",
        "        axes[i].imshow(img)\n",
        "        axes[i].axis('off')\n",
        "        axes[i].set_title(f\"Label: {list(generator.class_indices.keys())[label.argmax()]}\")\n",
        "    for j in range(num_images, len(axes)):\n",
        "        axes[j].axis('off')\n",
        "\n",
        "    plt.tight_layout()\n",
        "    plt.show()\n",
        "\n",
        "plot_images_from_generator(traingen, \"TRAINING SET\", num_images = 10, images_per_row = 5)\n",
        "plot_images_from_generator(testgen, \"TESTING SET\", num_images = 10, images_per_row = 5)"
      ],
      "metadata": {
        "trusted": true,
        "execution": {
          "iopub.status.busy": "2025-01-09T21:36:08.061865Z",
          "iopub.execute_input": "2025-01-09T21:36:08.062378Z",
          "iopub.status.idle": "2025-01-09T21:36:10.549372Z",
          "shell.execute_reply.started": "2025-01-09T21:36:08.062351Z",
          "shell.execute_reply": "2025-01-09T21:36:10.548277Z"
        },
        "id": "tRJket0VvPPB"
      },
      "outputs": [],
      "execution_count": null
    },
    {
      "cell_type": "code",
      "source": [
        "def plot_class_distribution(directory, title):\n",
        "    class_names = os.listdir(directory)\n",
        "    class_counts = []\n",
        "    for class_name in class_names:\n",
        "        class_dir = os.path.join(directory, class_name)\n",
        "        if os.path.isdir(class_dir):\n",
        "            class_counts.append(len(os.listdir(class_dir)))\n",
        "    plt.figure(figsize = (15,6))\n",
        "    plt.bar(class_names, class_counts)\n",
        "    plt.title(title)\n",
        "    plt.xlabel('EMOTION')\n",
        "    plt.ylabel('NUMBER OF IMAGES')\n",
        "    plt.xticks(rotation = 45)\n",
        "    plt.show()\n",
        "\n",
        "plot_class_distribution(train, \"Training Set Emotion Distribution\")\n",
        "plot_class_distribution(test, \"Testing Set Emotion Distribution\")\n"
      ],
      "metadata": {
        "trusted": true,
        "execution": {
          "iopub.status.busy": "2025-01-09T21:36:10.550559Z",
          "iopub.execute_input": "2025-01-09T21:36:10.550955Z",
          "iopub.status.idle": "2025-01-09T21:36:11.111801Z",
          "shell.execute_reply.started": "2025-01-09T21:36:10.550917Z",
          "shell.execute_reply": "2025-01-09T21:36:11.110809Z"
        },
        "id": "yEhm1lq7vPPC"
      },
      "outputs": [],
      "execution_count": null
    },
    {
      "cell_type": "code",
      "source": [
        "# Mapping Labels\n",
        "label_map = {\n",
        "    0:'Angry',\n",
        "    1:'Disgust',\n",
        "    2:'Fear',\n",
        "    3:'Happy',\n",
        "    4:'Sad',\n",
        "    5:'Surprise',\n",
        "    6:'Neutral'\n",
        "}"
      ],
      "metadata": {
        "trusted": true,
        "execution": {
          "iopub.status.busy": "2025-01-09T21:36:11.11271Z",
          "iopub.execute_input": "2025-01-09T21:36:11.112998Z",
          "iopub.status.idle": "2025-01-09T21:36:11.116963Z",
          "shell.execute_reply.started": "2025-01-09T21:36:11.112961Z",
          "shell.execute_reply": "2025-01-09T21:36:11.116191Z"
        },
        "id": "VyUnXxuvvPPC"
      },
      "outputs": [],
      "execution_count": null
    },
    {
      "cell_type": "code",
      "source": [
        "# importing\n",
        "\n",
        "import keras as k\n",
        "from keras.models import Sequential\n",
        "from keras.layers import Conv2D,BatchNormalization,Activation,GlobalAveragePooling2D,Dropout,Dense,MaxPooling2D\n",
        "from keras.callbacks import ReduceLROnPlateau, EarlyStopping"
      ],
      "metadata": {
        "trusted": true,
        "execution": {
          "iopub.status.busy": "2025-01-09T21:36:11.120084Z",
          "iopub.execute_input": "2025-01-09T21:36:11.120343Z",
          "iopub.status.idle": "2025-01-09T21:36:11.137876Z",
          "shell.execute_reply.started": "2025-01-09T21:36:11.12032Z",
          "shell.execute_reply": "2025-01-09T21:36:11.136728Z"
        },
        "id": "87zy8SpsvPPC"
      },
      "outputs": [],
      "execution_count": null
    },
    {
      "cell_type": "code",
      "source": [
        "model = Sequential()\n",
        "\n",
        "# CNN Layer 1\n",
        "model.add(Conv2D(64, (3,3), padding='same', input_shape=(48, 48, 1)))\n",
        "model.add(Activation('relu'))\n",
        "model.add(BatchNormalization())\n",
        "model.add(MaxPooling2D(pool_size=(2,2)))\n",
        "model.add(Dropout(0.25))\n",
        "\n",
        "# CNN Layer 2\n",
        "model.add(Conv2D(200, (3,3), padding='same'))\n",
        "model.add(Activation('relu'))\n",
        "model.add(BatchNormalization())\n",
        "model.add(MaxPooling2D(pool_size=(2,2)))\n",
        "model.add(Dropout(0.25))\n",
        "\n",
        "# CNN Layer 3\n",
        "model.add(Conv2D(200, (3,3), padding='same'))\n",
        "model.add(Activation('relu'))\n",
        "model.add(BatchNormalization())\n",
        "model.add(MaxPooling2D(pool_size=(2,2)))\n",
        "model.add(Dropout(0.25))\n",
        "\n",
        "#CNN Layer 4\n",
        "model.add(Conv2D(200, (3,3), padding='same'))\n",
        "model.add(Activation('relu'))\n",
        "model.add(BatchNormalization())\n",
        "model.add(MaxPooling2D(pool_size=(2,2)))\n",
        "model.add(Dropout(0.25))\n",
        "\n",
        "#CNN Layer 5\n",
        "model.add(Conv2D(200, (3,3), padding='same'))\n",
        "model.add(Activation('relu'))\n",
        "model.add(BatchNormalization())\n",
        "model.add(MaxPooling2D(pool_size=(2,2)))\n",
        "model.add(Dropout(0.25))\n",
        "\n",
        "#Global Average Pooling layer is used instead of Flatten as it is more effiecient\n",
        "#Note: There is feature loss when we use GAP\n",
        "model.add(GlobalAveragePooling2D())\n",
        "\n",
        "#Dense Layer 1\n",
        "model.add(Dense(200))\n",
        "model.add(Activation('relu'))\n",
        "model.add(BatchNormalization())\n",
        "model.add(Dropout(0.5))\n",
        "\n",
        "#Dense Layer 2\n",
        "model.add(Dense(200))\n",
        "model.add(Activation('relu'))\n",
        "model.add(BatchNormalization())\n",
        "model.add(Dropout(0.5))\n",
        "\n",
        "#Dense Layer 3\n",
        "model.add(Dense(200))\n",
        "model.add(Activation('relu'))\n",
        "model.add(BatchNormalization())\n",
        "model.add(Dropout(0.5))\n",
        "\n",
        "#Output Layer\n",
        "model.add(Dense(7, activation='softmax'))\n",
        "\n",
        "#Adam Optimizer\n",
        "opt = k.optimizers.Adam(learning_rate=0.005)\n",
        "model.compile(optimizer=opt, loss='categorical_crossentropy', metrics=['accuracy'])\n",
        "\n",
        "model.summary()"
      ],
      "metadata": {
        "trusted": true,
        "execution": {
          "iopub.status.busy": "2025-01-09T21:36:11.13929Z",
          "iopub.execute_input": "2025-01-09T21:36:11.139683Z",
          "iopub.status.idle": "2025-01-09T21:36:11.920897Z",
          "shell.execute_reply.started": "2025-01-09T21:36:11.139647Z",
          "shell.execute_reply": "2025-01-09T21:36:11.919938Z"
        },
        "id": "U8OwJQjAvPPC"
      },
      "outputs": [],
      "execution_count": null
    },
    {
      "cell_type": "code",
      "source": [
        "#Implementing Early Stopping and Learning Rate Reduction\n",
        "es=EarlyStopping(monitor='val_loss', patience=25, verbose=1, restore_best_weights=True)\n",
        "lr=ReduceLROnPlateau(monitor='val_loss', factor=0.001, patience=10, verbose=1, min_delta=0.0001)\n",
        "\n",
        "callbacks_list=[es,lr]"
      ],
      "metadata": {
        "trusted": true,
        "execution": {
          "iopub.status.busy": "2025-01-09T21:36:11.921878Z",
          "iopub.execute_input": "2025-01-09T21:36:11.922202Z",
          "iopub.status.idle": "2025-01-09T21:36:11.926722Z",
          "shell.execute_reply.started": "2025-01-09T21:36:11.922161Z",
          "shell.execute_reply": "2025-01-09T21:36:11.925808Z"
        },
        "id": "SSU8_jQSvPPD"
      },
      "outputs": [],
      "execution_count": null
    },
    {
      "cell_type": "code",
      "source": [
        "history = model.fit(\n",
        "    traingen,\n",
        "    epochs = 15,\n",
        "    validation_data = valgen,\n",
        "    callbacks = callbacks_list\n",
        ")"
      ],
      "metadata": {
        "trusted": true,
        "execution": {
          "iopub.status.busy": "2025-01-09T21:36:11.927607Z",
          "iopub.execute_input": "2025-01-09T21:36:11.927925Z"
        },
        "id": "yOpGZYoSvPPD"
      },
      "outputs": [],
      "execution_count": null
    },
    {
      "cell_type": "code",
      "source": [
        "test_loss, test_accuracy = model.evaluate(testgen)"
      ],
      "metadata": {
        "trusted": true,
        "id": "gGvHZYAwvPPD"
      },
      "outputs": [],
      "execution_count": null
    },
    {
      "cell_type": "code",
      "source": [
        "from sklearn.metrics import classsification_report, confusion_matrix"
      ],
      "metadata": {
        "trusted": true,
        "id": "5kls0oyIvPPD"
      },
      "outputs": [],
      "execution_count": null
    },
    {
      "cell_type": "code",
      "source": [
        "print(f\"Test Accuracy: {test_accuracy:.2f}\")\n",
        "y_pred = np.argmax(model.predict(testgen), axis=1)\n",
        "y_true = testgen.classes\n",
        "print(\"Classification Report:\")\n",
        "print(classification_report(y_true, y_pred))\n",
        "conf_matrix = confusion_matrix(y_true, y_pred)\n",
        "print(\"Confusion Matrix:\")\n",
        "print(conf_matrix,'\\n\\n')\n",
        "plt.figure(figsize=(10, 7))\n",
        "sns.heatmap(conf_matrix, annot=True, fmt='d', cmap='Blues',\n",
        "            xticklabels=list(label_map.values()),\n",
        "            yticklabels=list(label_map.values()))\n",
        "plt.title('Confusion Matrix')\n",
        "plt.xlabel('Predicted Labels')\n",
        "plt.ylabel('True Labels')\n",
        "plt.show()\n",
        "print(\"Training class indices:\", traingen.class_indices)\n",
        "print(\"Test class indices:\", testgen.class_indices)"
      ],
      "metadata": {
        "trusted": true,
        "id": "cM6WxQ6EvPPD"
      },
      "outputs": [],
      "execution_count": null
    },
    {
      "cell_type": "code",
      "source": [
        "plt.figure(figsize=(12, 6))\n",
        "\n",
        "# Plot Loss\n",
        "plt.subplot(1, 2, 1)\n",
        "plt.plot(history.history['loss'], label='Training Loss', color='blue')\n",
        "plt.plot(history.history['val_loss'], label='Validation Loss', color='red')\n",
        "plt.title('Training and Validation Loss')\n",
        "plt.xlabel('Epochs')\n",
        "plt.ylabel('Loss')\n",
        "plt.legend()\n",
        "\n",
        "# Plot Accuracy\n",
        "plt.subplot(1, 2, 2)\n",
        "plt.plot(history.history['accuracy'], label='Training Accuracy', color='blue')\n",
        "plt.plot(history.history['val_accuracy'], label='Validation Accuracy', color='red')\n",
        "plt.title('Training and Validation Accuracy')\n",
        "plt.xlabel('Epochs')\n",
        "plt.ylabel('Accuracy')\n",
        "plt.legend()\n",
        "\n",
        "plt.tight_layout()\n",
        "plt.show()"
      ],
      "metadata": {
        "trusted": true,
        "id": "Te5FfkyMvPPD"
      },
      "outputs": [],
      "execution_count": null
    }
  ]
}